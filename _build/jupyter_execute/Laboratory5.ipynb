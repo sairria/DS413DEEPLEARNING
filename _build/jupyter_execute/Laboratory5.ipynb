{
 "cells": [
  {
   "cell_type": "markdown",
   "id": "e45491ba-3149-41a4-ba15-72bd7f01b83e",
   "metadata": {},
   "source": [
    "\n",
    "**Name** : Airyll H. Sanchez\n",
    "\n",
    "**Section**: DS4A\n",
    "\n",
    "**Date**: September 3, 2025\n",
    "\n",
    "## Laboratory Task # 5"
   ]
  },
  {
   "cell_type": "markdown",
   "id": "7a5e8037-2e2e-4195-b400-63dfe10009c9",
   "metadata": {},
   "source": [
    "![laboratory5](images/Laboratory5.1.png)"
   ]
  },
  {
   "cell_type": "markdown",
   "id": "7648f516-c13c-41ee-b27e-099142c5243f",
   "metadata": {},
   "source": [
    "1. Perform Standard Imports"
   ]
  },
  {
   "cell_type": "code",
   "execution_count": 1,
   "id": "b7b32a67-af98-47c4-a401-46d8df2b5992",
   "metadata": {},
   "outputs": [],
   "source": [
    "import torch\n",
    "import numpy as np\n",
    "import sys\n",
    "import random"
   ]
  },
  {
   "attachments": {},
   "cell_type": "markdown",
   "id": "37245503-cf8a-4930-9af7-8be22937508c",
   "metadata": {},
   "source": [
    "![image.png](images/Laboratory5.2.png)"
   ]
  },
  {
   "cell_type": "code",
   "execution_count": 2,
   "id": "da7993f7-3d97-4d88-bd05-f6aa4c187650",
   "metadata": {},
   "outputs": [],
   "source": [
    "def set_seed(seeed: int) -> None:\n",
    "    torch.manual_sed(seed)\n",
    "    random.seed(seeed)\n",
    "    np.random.seed(seeed)"
   ]
  },
  {
   "cell_type": "markdown",
   "id": "16ace6cb-20db-4d65-8c53-4450cc97237d",
   "metadata": {},
   "source": [
    "![laboratory](images/Laboratory5.3.png)"
   ]
  },
  {
   "cell_type": "code",
   "execution_count": 3,
   "id": "a810940b-af44-4a0c-9ff1-40485b0d823a",
   "metadata": {},
   "outputs": [
    {
     "name": "stdout",
     "output_type": "stream",
     "text": [
      "[3 4 2 4 4 1]\n"
     ]
    }
   ],
   "source": [
    "def set_seed(seed):\n",
    "    np.random.seed(seed)\n",
    "\n",
    "set_seed(42)\n",
    "arr = np.random.randint(0, 5, 6)\n",
    "print (arr)"
   ]
  },
  {
   "attachments": {},
   "cell_type": "markdown",
   "id": "361e1fe6-9061-4aa8-9168-21c6fa55a889",
   "metadata": {},
   "source": [
    "![image](images/Laboratory5.4.png)"
   ]
  },
  {
   "cell_type": "code",
   "execution_count": 4,
   "id": "841eb70e-dac1-4141-81e0-71e629638328",
   "metadata": {},
   "outputs": [
    {
     "name": "stdout",
     "output_type": "stream",
     "text": [
      "PyTorch tensor: tensor([3, 4, 2, 4, 4, 1], dtype=torch.int32)\n"
     ]
    }
   ],
   "source": [
    "x = torch.from_numpy(arr)\n",
    "print(\"PyTorch tensor:\", x)"
   ]
  },
  {
   "attachments": {},
   "cell_type": "markdown",
   "id": "e97ab83d-6f97-4001-baff-041dc348a38b",
   "metadata": {},
   "source": [
    "![image](images/Laboratory5.5.png)"
   ]
  },
  {
   "cell_type": "code",
   "execution_count": 5,
   "id": "9fb99656-fb2e-43b9-9328-b0562e711e86",
   "metadata": {},
   "outputs": [
    {
     "name": "stdout",
     "output_type": "stream",
     "text": [
      "tensor([3, 4, 2, 4, 4, 1])\n",
      "torch.int64\n"
     ]
    }
   ],
   "source": [
    "dt = x.type(torch.int64)\n",
    "print(dt)\n",
    "print(dt.dtype)"
   ]
  },
  {
   "attachments": {},
   "cell_type": "markdown",
   "id": "62c7c8a4-9d49-4f1d-8413-04c8718a8c84",
   "metadata": {},
   "source": [
    "![image.png](images/Laboratory5.6.png)"
   ]
  },
  {
   "cell_type": "code",
   "execution_count": 6,
   "id": "80699e2f-f2bc-484a-b171-b90395e75505",
   "metadata": {},
   "outputs": [
    {
     "name": "stdout",
     "output_type": "stream",
     "text": [
      "tensor([[0, 1],\n",
      "        [2, 3],\n",
      "        [4, 5]])\n"
     ]
    }
   ],
   "source": [
    "x = torch.arange(6).reshape(3,2)\n",
    "print(x)"
   ]
  },
  {
   "cell_type": "code",
   "execution_count": 7,
   "id": "4131bb40-ed7e-4159-b467-a6bde356820e",
   "metadata": {},
   "outputs": [
    {
     "name": "stdout",
     "output_type": "stream",
     "text": [
      "Reshaped tensor:\n",
      " tensor([[0, 1],\n",
      "        [2, 3],\n",
      "        [4, 5]])\n",
      "New shape: torch.Size([3, 2])\n"
     ]
    }
   ],
   "source": [
    "x = x.reshape(3,2)\n",
    "print(\"Reshaped tensor:\\n\", x)\n",
    "print(\"New shape:\", x.shape)"
   ]
  },
  {
   "attachments": {},
   "cell_type": "markdown",
   "id": "c2a2d3a2-e027-430a-b96e-d25fbe6fe2af",
   "metadata": {},
   "source": [
    "![image.png](images/Laboratory5.7.png)"
   ]
  },
  {
   "cell_type": "code",
   "execution_count": 8,
   "id": "acc2d457-d09f-43a2-a4fa-238ab61c6a8a",
   "metadata": {},
   "outputs": [
    {
     "data": {
      "text/plain": [
       "tensor([1, 3, 5])"
      ]
     },
     "execution_count": 8,
     "metadata": {},
     "output_type": "execute_result"
    }
   ],
   "source": [
    "x[:,1]"
   ]
  },
  {
   "attachments": {},
   "cell_type": "markdown",
   "id": "caeea802-a1ec-41ef-8e9e-6104a13214f1",
   "metadata": {},
   "source": [
    "![image.png](images/Laboratory5.8.png)"
   ]
  },
  {
   "cell_type": "code",
   "execution_count": 9,
   "id": "e77dd4ed-29c5-422e-b686-af2839a6475e",
   "metadata": {},
   "outputs": [
    {
     "name": "stdout",
     "output_type": "stream",
     "text": [
      "Squared tensor:\n",
      " tensor([[ 0,  1],\n",
      "        [ 4,  9],\n",
      "        [16, 25]])\n"
     ]
    }
   ],
   "source": [
    "squared_x = x ** 2\n",
    "print(\"Squared tensor:\\n\", squared_x)"
   ]
  },
  {
   "attachments": {},
   "cell_type": "markdown",
   "id": "a474ab73-3efb-4535-afbf-63d713dc9255",
   "metadata": {},
   "source": [
    " ![image.png](images/Laboratory5.9.png)"
   ]
  },
  {
   "cell_type": "code",
   "execution_count": 10,
   "id": "7160d01f-6a18-48d1-931b-65fd85ea2788",
   "metadata": {},
   "outputs": [
    {
     "data": {
      "text/plain": [
       "tensor([[4, 3, 0],\n",
       "        [0, 2, 1]])"
      ]
     },
     "execution_count": 10,
     "metadata": {},
     "output_type": "execute_result"
    }
   ],
   "source": [
    "set_seed(42)\n",
    "y = torch.randint(low=0,high=5,size=(2,3),dtype= torch.int64)\n",
    "y"
   ]
  },
  {
   "attachments": {},
   "cell_type": "markdown",
   "id": "fd61f89a-a17d-4abf-8a00-3f9432afe2f4",
   "metadata": {},
   "source": [
    "![image.png](images/Laboratory5.10.png)"
   ]
  },
  {
   "cell_type": "code",
   "execution_count": 11,
   "id": "fa301ade-48a9-4605-b83f-e6a306002d60",
   "metadata": {},
   "outputs": [
    {
     "name": "stdout",
     "output_type": "stream",
     "text": [
      "tensor([[ 0,  2,  1],\n",
      "        [ 8, 12,  3],\n",
      "        [16, 22,  5]])\n"
     ]
    }
   ],
   "source": [
    "print(torch.mm(x,y))"
   ]
  },
  {
   "cell_type": "code",
   "execution_count": null,
   "id": "b0031df3-5443-4754-9073-a64c9f568a7f",
   "metadata": {},
   "outputs": [],
   "source": []
  }
 ],
 "metadata": {
  "kernelspec": {
   "display_name": "Python 3 (ipykernel)",
   "language": "python",
   "name": "python3"
  },
  "language_info": {
   "codemirror_mode": {
    "name": "ipython",
    "version": 3
   },
   "file_extension": ".py",
   "mimetype": "text/x-python",
   "name": "python",
   "nbconvert_exporter": "python",
   "pygments_lexer": "ipython3",
   "version": "3.13.0"
  }
 },
 "nbformat": 4,
 "nbformat_minor": 5
}