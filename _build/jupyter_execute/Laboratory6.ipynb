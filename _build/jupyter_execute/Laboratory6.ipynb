{
 "cells": [
  {
   "cell_type": "markdown",
   "id": "cd968376-89cc-4db1-a84e-37d31c505395",
   "metadata": {},
   "source": [
    "**Name:** Airyll Sanchez\n",
    "\n",
    "**Date:** September 30,2025\n",
    "\n",
    "## Laboratory Task # 6"
   ]
  },
  {
   "attachments": {},
   "cell_type": "markdown",
   "id": "b31b5c7e-ab15-4fe7-9418-86781118a91d",
   "metadata": {},
   "source": [
    "![image.png](images/Laboratory6.png)"
   ]
  },
  {
   "cell_type": "markdown",
   "id": "8396f248-8e71-4e8b-ae03-8ccaf0953015",
   "metadata": {},
   "source": [
    "1. Introduction and SetUp\n",
    "   \n",
    "\n",
    "This notebook implements a deep Convolutional Neural Network (CNN) in PyTorch based on the provided architecture diagram. The network is designed for image classification, taking a 28×28 single-channel image (like MNIST) as input."
   ]
  },
  {
   "cell_type": "markdown",
   "id": "de1d2940-87f4-434c-bacc-a9718a1b01eb",
   "metadata": {},
   "source": [
    "**Imports & Architecture Constants**"
   ]
  },
  {
   "cell_type": "code",
   "execution_count": 1,
   "id": "bba4e9bf-1076-4f2e-ba50-3143fd81d672",
   "metadata": {},
   "outputs": [],
   "source": [
    "# CODE CELL 1: Imports and Architecture Constants\n",
    "import torch\n",
    "import torch.nn as nn\n",
    "import torch.nn.functional as F\n",
    "\n",
    "# Define constants based on the standard input (e.g., MNIST)\n",
    "INPUT_CHANNELS = 1      # (1, 28, 28)\n",
    "INPUT_WIDTH = 28        # 28 pixels\n",
    "DROPOUT_PROB = 0.2      # p = 0.2\n",
    "FINAL_OUTPUT_CLASSES = 10 # Assuming 10 classes (like MNIST)"
   ]
  },
  {
   "cell_type": "markdown",
   "id": "c0f545a0-6ce9-4ce1-8cf6-143a5c6e767c",
   "metadata": {},
   "source": [
    " **CNN Architecture Conversion**"
   ]
  },
  {
   "cell_type": "markdown",
   "id": "68337fc3-04b0-407a-8e24-d300386cb8c3",
   "metadata": {},
   "source": [
    "We will use the nn.Module class to define the network, calculating the exact spatial dimensions at each step."
   ]
  },
  {
   "cell_type": "code",
   "execution_count": 2,
   "id": "68db1559-1adb-4041-b83d-0ebe6742f9b6",
   "metadata": {},
   "outputs": [
    {
     "name": "stdout",
     "output_type": "stream",
     "text": [
      "Model Instantiation Complete.\n",
      "CustomDeepCNN(\n",
      "  (conv1): Conv2d(1, 32, kernel_size=(3, 3), stride=(1, 1), padding=(1, 1))\n",
      "  (pool1): MaxPool2d(kernel_size=2, stride=2, padding=0, dilation=1, ceil_mode=False)\n",
      "  (conv2): Conv2d(32, 64, kernel_size=(3, 3), stride=(1, 1), padding=(1, 1))\n",
      "  (conv3): Conv2d(64, 128, kernel_size=(3, 3), stride=(1, 1), padding=(1, 1))\n",
      "  (conv4): Conv2d(128, 256, kernel_size=(3, 3), stride=(1, 1), padding=(1, 1))\n",
      "  (pool2): MaxPool2d(kernel_size=2, stride=2, padding=0, dilation=1, ceil_mode=False)\n",
      "  (dropout): Dropout(p=0.2, inplace=False)\n",
      "  (fcn1): Linear(in_features=12544, out_features=1000, bias=True)\n",
      "  (fcn2): Linear(in_features=1000, out_features=500, bias=True)\n",
      "  (fcn3): Linear(in_features=500, out_features=10, bias=True)\n",
      ")\n"
     ]
    }
   ],
   "source": [
    "#  PyTorch CNN Class Definition\n",
    "\n",
    "class CustomDeepCNN(nn.Module):\n",
    "    \"\"\"\n",
    "    Implements the CNN architecture defined in Laboratory Task #6.\n",
    "    The architecture uses 4 Conv layers, 2 MaxPool layers, Dropout, and 3 Fully Connected layers.\n",
    "    \"\"\"\n",
    "    def __init__(self):\n",
    "        super(CustomDeepCNN, self).__init__()\n",
    "\n",
    "        # --- CONVOLUTIONAL LAYERS ---\n",
    "        # The input channel sizes are inferred from the desired output shapes:\n",
    "        # (32, 32, 28, 28) -> Output Channels = 32\n",
    "        self.conv1 = nn.Conv2d(in_channels=1, out_channels=32, kernel_size=3, stride=1, padding=1) \n",
    "        \n",
    "        # MaxPool1 output is (32, 14, 14) due to kernel 2, stride 2, padding 0.\n",
    "        # But the instructions specify padding=1, which is unusual for a simple 28->14 reduction.\n",
    "        # We assume the intent is 28->14, which requires stride=2, kernel=2, and padding=0 (standard pooling)\n",
    "        # OR padding=1, which requires a calculation: (28 - 2 + 2*1)/2 + 1 = 15. The shape (32, 32, 28, 28) \n",
    "        # is also confusing. We will interpret MaxPool1 as STANDARD 28->14 downsampling.\n",
    "        self.pool1 = nn.MaxPool2d(kernel_size=2, stride=2, padding=0)\n",
    "\n",
    "        # The subsequent Conv layers increase the depth (channels). We follow the pattern: 32 -> 64 -> 128 -> 256\n",
    "        self.conv2 = nn.Conv2d(in_channels=32, out_channels=64, kernel_size=3, stride=1, padding=1)\n",
    "        self.conv3 = nn.Conv2d(in_channels=64, out_channels=128, kernel_size=3, stride=1, padding=1)\n",
    "        self.conv4 = nn.Conv2d(in_channels=128, out_channels=256, kernel_size=3, stride=1, padding=1)\n",
    "        \n",
    "        # MaxPool2: kernel=(2,2), stride=2, padding=0. Reduces spatial size by half.\n",
    "        self.pool2 = nn.MaxPool2d(kernel_size=2, stride=2, padding=0)\n",
    "        \n",
    "        # Dropout Layer\n",
    "        self.dropout = nn.Dropout(p=DROPOUT_PROB)\n",
    "\n",
    "        # --- FULLY CONNECTED LAYERS (FCN) ---\n",
    "        # Calculate the size before FCN1 (FLATTEN input)\n",
    "        # 1. After Conv1/MaxPool1: 28x28 -> 14x14 (32 channels)\n",
    "        # 2. After Conv2/Conv3/Conv4: 14x14 -> 14x14 (256 channels)\n",
    "        # 3. After MaxPool2: 14x14 -> 7x7 (256 channels)\n",
    "        \n",
    "        FLATTEN_SIZE = 256 * 7 * 7  # 256 * 49 = 12,544\n",
    "\n",
    "        # FCN1: input = 12,544, output = 1000\n",
    "        self.fcn1 = nn.Linear(FLATTEN_SIZE, 1000)\n",
    "        \n",
    "        # FCN2: input = 1000, output = 500\n",
    "        self.fcn2 = nn.Linear(1000, 500)\n",
    "        \n",
    "        # FCN3: input = 500, output = FINAL_OUTPUT_CLASSES (10)\n",
    "        self.fcn3 = nn.Linear(500, FINAL_OUTPUT_CLASSES)\n",
    "\n",
    "    def forward(self, x):\n",
    "        # 1. Conv Block 1\n",
    "        x = F.relu(self.conv1(x))\n",
    "        x = self.pool1(x) \n",
    "        \n",
    "        # 2. Conv Block 2-4\n",
    "        x = F.relu(self.conv2(x))\n",
    "        x = F.relu(self.conv3(x))\n",
    "        x = F.relu(self.conv4(x))\n",
    "        x = self.pool2(x)\n",
    "        \n",
    "        # 3. Dropout\n",
    "        x = self.dropout(x)\n",
    "        \n",
    "        # 4. Flatten: prepare for FCN layers\n",
    "        x = x.view(x.size(0), -1) # x.size(0) is the batch size\n",
    "        \n",
    "        # 5. Fully Connected Layers\n",
    "        x = F.relu(self.fcn1(x))\n",
    "        x = F.relu(self.fcn2(x))\n",
    "        \n",
    "        # FCN3 (No ReLU/Activation on the final layer before SoftMax is standard)\n",
    "        x = self.fcn3(x)\n",
    "        \n",
    "        # 6. Final Activation (SoftMax for probability output)\n",
    "        x = F.softmax(x, dim=1)\n",
    "        \n",
    "        return x\n",
    "\n",
    "# Instantiate the model\n",
    "model = CustomDeepCNN()\n",
    "print(\"Model Instantiation Complete.\")\n",
    "print(model)"
   ]
  },
  {
   "cell_type": "markdown",
   "id": "141fb7f3-f32f-44ff-8fe9-6d3e68df1628",
   "metadata": {},
   "source": [
    "**Architecture Analysis**"
   ]
  },
  {
   "cell_type": "markdown",
   "id": "2d1b574e-19b7-4cc2-890c-dd8260cc9b7f",
   "metadata": {},
   "source": [
    "Architectural Documentation and Layer-by-Layer Calculation\n",
    "\n",
    "The model was constructed by following the layer sequence and parameters provided. The spatial dimensions (W x H) and channel depth (C) are calculated below:\n",
    "\n",
    "**A. Initial State**\n",
    "\n",
    "* **Input:** $(C_{in}, W, H) = (1, 28, 28)$\n",
    "\n",
    "**B. Layer Computations**\n",
    "\n",
    "| Layer | Input Shape | Operation | Output Formula $\\left( \\frac{W - F + 2P}{S} + 1 \\right)$ | Output Shape |\n",
    "| :--- | :--- | :--- | :--- | :--- |\n",
    "| **Conv1 (ReLU)** | $(1, 28, 28)$ | $K=3, S=1, P=1, C_{out}=32$ | $\\frac{28 - 3 + 2(1)}{1} + 1 = 28$ | $(32, 28, 28)$ |\n",
    "| **MaxPool1** | $(32, 28, 28)$ | $K=2, S=2, P=0$ (Assumed P=0 for 28->14) | $\\frac{28 - 2 + 2(0)}{2} + 1 = 14$ | $(32, 14, 14)$ |\n",
    "| **Conv2 (ReLU)** | $(32, 14, 14)$ | $K=3, S=1, P=1, C_{out}=64$ | $\\frac{14 - 3 + 2(1)}{1} + 1 = 14$ | $(64, 14, 14)$ |\n",
    "| **Conv3 (ReLU)** | $(64, 14, 14)$ | $K=3, S=1, P=1, C_{out}=128$ | $\\frac{14 - 3 + 2(1)}{1} + 1 = 14$ | $(128, 14, 14)$ |\n",
    "| **Conv4 (ReLU)** | $(128, 14, 14)$ | $K=3, S=1, P=1, C_{out}=256$ | $\\frac{14 - 3 + 2(1)}{1} + 1 = 14$ | $(256, 14, 14)$ |\n",
    "| **MaxPool2** | $(256, 14, 14)$ | $K=2, S=2, P=0$ | $\\frac{14 - 2 + 2(0)}{2} + 1 = 7$ | $(256, 7, 7)$ |\n",
    "| **Flatten** | $(256, 7, 7)$ | $256 \\times 7 \\times 7 = 12,544$ | N/A | $(12,544)$ |\n",
    "\n",
    "**C. Fully Connected Layers**\n",
    "\n",
    "* **FCN1:** $\\text{Input}=12,544$, $\\text{Output}=1000$\n",
    "* **FCN2:** $\\text{Input}=1000$, $\\text{Output}=500$\n",
    "* **FCN3:** $\\text{Input}=500$, $\\text{Output}=10$ (Final classification layer)"
   ]
  },
  {
   "cell_type": "markdown",
   "id": "01facbb5-aeb2-4284-8054-24858dbb29ba",
   "metadata": {},
   "source": [
    "**Functionality Demonstration (MNIST Data)**"
   ]
  },
  {
   "cell_type": "markdown",
   "id": "33194cbe-a7aa-4b76-9f4c-2da564ff7f62",
   "metadata": {},
   "source": [
    "     We will use the MNIST dataset to confirm that the implemented CustomDeepCNN class correctly processes images through all its layers and outputs the required final tensor shape."
   ]
  },
  {
   "cell_type": "code",
   "execution_count": 3,
   "id": "8912cbe1-b5d3-4bf8-8afb-9e7979050fd7",
   "metadata": {},
   "outputs": [],
   "source": [
    "#  Data Setup and Forward Pass Check\n",
    "\n",
    "import torchvision\n",
    "from torchvision import datasets, transforms\n",
    "import matplotlib.pyplot as plt\n",
    "import numpy as np"
   ]
  },
  {
   "cell_type": "code",
   "execution_count": 4,
   "id": "382fff7b-6e67-42d9-b476-66d9da4256ba",
   "metadata": {},
   "outputs": [
    {
     "name": "stdout",
     "output_type": "stream",
     "text": [
      "Input Batch Shape: torch.Size([4, 1, 28, 28])\n",
      "-----------------------------------\n",
      "Final Output Tensor Shape (Batch x Classes): torch.Size([4, 10])\n",
      "Verification: Initial image shape: (1, 28, 28)\n",
      "Verification: Flattened feature map size: 12544\n",
      "Verification: Final output classes: 10\n"
     ]
    }
   ],
   "source": [
    "# 1. Load MNIST Data\n",
    "transform = transforms.ToTensor()\n",
    "test_data = datasets.MNIST(root='data', train=False, download=True, transform=transform)\n",
    "test_loader = torch.utils.data.DataLoader(test_data, batch_size=4, shuffle=True)\n",
    "\n",
    "# 2. Get a batch of images for testing\n",
    "images, labels = next(iter(test_loader))\n",
    "\n",
    "print(f\"Input Batch Shape: {images.shape}\")\n",
    "print(\"-\" * 35)\n",
    "\n",
    "# 3. Perform a forward pass on the architecture\n",
    "model.eval() # Set model to evaluation mode\n",
    "with torch.no_grad():\n",
    "    output_tensor = model(images)\n",
    "    \n",
    "# 4. Display the output shape\n",
    "print(f\"Final Output Tensor Shape (Batch x Classes): {output_tensor.shape}\")\n",
    "\n",
    "# 5. Display initial and final shapes for verification\n",
    "print(f\"Verification: Initial image shape: (1, 28, 28)\")\n",
    "print(f\"Verification: Flattened feature map size: {256 * 7 * 7}\")\n",
    "print(f\"Verification: Final output classes: {output_tensor.shape[1]}\")"
   ]
  },
  {
   "cell_type": "markdown",
   "id": "500293a9-4714-4033-8a40-43e9656e633e",
   "metadata": {},
   "source": [
    "**Visualization: Feature Map Inspection**"
   ]
  },
  {
   "cell_type": "markdown",
   "id": "532f84bd-e800-40ee-95c8-1a4840877d91",
   "metadata": {},
   "source": [
    "     The most effective visualization to check a CNN's functionality is to inspect the outputs of the intermediate layers (feature maps)."
   ]
  },
  {
   "cell_type": "code",
   "execution_count": 5,
   "id": "38cc6dab-ee18-496a-b291-86410eb5e3b8",
   "metadata": {},
   "outputs": [
    {
     "data": {
      "image/png": "[encoded data removed]",
      "text/plain": [
       "<Figure size 200x200 with 1 Axes>"
      ]
     },
     "metadata": {},
     "output_type": "display_data"
    },
    {
     "data": {
      "image/png": "[encoded data removed]",
      "text/plain": [
       "<Figure size 1500x200 with 8 Axes>"
      ]
     },
     "metadata": {},
     "output_type": "display_data"
    }
   ],
   "source": [
    "# CODE CELL 4: Visualization of Layer 1 Feature Maps\n",
    "\n",
    "def visualize_feature_maps(model, input_image, layer_name, num_maps=8):\n",
    "    \"\"\"\n",
    "    Visualizes a selection of feature maps from a specified convolutional layer.\n",
    "    \"\"\"\n",
    "    # 1. Create a partial model (sub-model) that runs up to the target layer\n",
    "    # target_layer = getattr(model, layer_name) # This line is not needed for the current function logic\n",
    "    \n",
    "    # We will manually run the first part of the forward pass up to Conv1\n",
    "    x = F.relu(model.conv1(input_image))\n",
    "    \n",
    "    # 2. Extract feature maps and detach from graph\n",
    "    # --- FIX APPLIED HERE: Added .detach() ---\n",
    "    feature_maps = x[0].detach().cpu().numpy() # Get the feature maps for the first image in the batch\n",
    "    # ----------------------------------------\n",
    "    \n",
    "    # 3. Plotting\n",
    "    fig, axs = plt.subplots(1, num_maps, figsize=(15, 2))\n",
    "    fig.suptitle(f'Feature Maps from {layer_name} (First {num_maps} of {feature_maps.shape[0]})', fontsize=12)\n",
    "    \n",
    "    for i in range(num_maps):\n",
    "        axs[i].imshow(feature_maps[i], cmap='gray')\n",
    "        axs[i].axis('off')\n",
    "        \n",
    "    plt.show()\n",
    "\n",
    "# --- Execution (Remaining code unchanged) ---\n",
    "# Use the first image from the loaded batch\n",
    "single_image = images[0].unsqueeze(0) \n",
    "\n",
    "# Display the original input image\n",
    "plt.figure(figsize=(2, 2))\n",
    "plt.imshow(single_image[0, 0].cpu().numpy(), cmap='gray')\n",
    "plt.title(f'Original Digit: {labels[0].item()}')\n",
    "plt.axis('off')\n",
    "plt.show()\n",
    "\n",
    "# Visualize the feature maps after the first convolutional layer\n",
    "visualize_feature_maps(model, single_image, 'conv1', num_maps=8)"
   ]
  },
  {
   "cell_type": "markdown",
   "id": "b750983a-0f2f-499c-b413-8dc7d8892de8",
   "metadata": {},
   "source": [
    "**Key Takeaway: Functionality Check**\n",
    "\n",
    "The demonstration confirms the following:\n",
    "\n",
    "1.  **Correct Dimensions:** The forward pass successfully transforms the initial $(1, 28, 28)$ input into the final $(4, 10)$ output (Batch Size 4, 10 Classes), proving the layer geometry and the final $\\text{Flatten} \\rightarrow \\text{FCN}$ calculations are correct.\n",
    "2.  **Feature Extraction:** The **Feature Map Visualization** shows how the initial convolutional layer extracts basic features (edges, corners) from the raw pixel data, converting the single input channel into 32 distinct feature representations. This verifies that the deep architecture is actively processing and transforming the image information as intended."
   ]
  },
  {
   "cell_type": "code",
   "execution_count": null,
   "id": "7d011e74-3ad6-4e15-8391-4411d4d07986",
   "metadata": {},
   "outputs": [],
   "source": []
  }
 ],
 "metadata": {
  "kernelspec": {
   "display_name": "Python (sairria)",
   "language": "python",
   "name": "sairria"
  },
  "language_info": {
   "codemirror_mode": {
    "name": "ipython",
    "version": 3
   },
   "file_extension": ".py",
   "mimetype": "text/x-python",
   "name": "python",
   "nbconvert_exporter": "python",
   "pygments_lexer": "ipython3",
   "version": "3.13.0"
  }
 },
 "nbformat": 4,
 "nbformat_minor": 5
}