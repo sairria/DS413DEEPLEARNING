{
 "cells": [
  {
   "cell_type": "markdown",
   "id": "038bdbff-913f-458a-8558-dd7f4031fe06",
   "metadata": {},
   "source": [
    "**Name:** Airll H. Sanchez\n",
    "\n",
    "**Date:** September 17, 2025\n",
    "\n",
    "## Laboratory Task #2 & 3"
   ]
  },
  {
   "attachments": {},
   "cell_type": "markdown",
   "id": "654a7590-7238-403f-bc61-7b0b5b07b94a",
   "metadata": {},
   "source": [
    "![Laboratory2](images/Laboratory2.png)"
   ]
  },
  {
   "attachments": {},
   "cell_type": "markdown",
   "id": "2bed97ea-4264-4817-9488-fc6df1683692",
   "metadata": {},
   "source": [
    "![Laboratory3](images/Laboratory3.png)"
   ]
  },
  {
   "cell_type": "markdown",
   "id": "c59efae3-e267-4af0-bdd3-d14d9562a9bc",
   "metadata": {},
   "source": [
    "1. Introduction and Objectives\n",
    "   \n",
    "This notebook implements a basic two-layer neural network (one hidden layer) to demonstrate the Forward and Backward Propagation processes.\n",
    "\n",
    "The primary objective is to replicate and analyze a specific case where the Rectified Linear Unit (ReLU) activation function leads to the \"Dying ReLU\" problem by observing which weights receive a zero gradient and thus remain stagnant.\n",
    "\n",
    "Network Architecture:\n",
    "\n",
    "Input Layer (L \n",
    "0\n",
    "​\n",
    " ): 2 units\n",
    "\n",
    "Hidden Layer (L \n",
    "1\n",
    "​\n",
    " ): 2 units with ReLU activation\n",
    "\n",
    "Output Layer (L \n",
    "2\n",
    "​\n",
    " ): 1 unit with Sigmoid activation"
   ]
  },
  {
   "cell_type": "markdown",
   "id": "21b4322c-5013-45a7-8345-27028b4ea29c",
   "metadata": {},
   "source": [
    "**Imports and Setup**"
   ]
  },
  {
   "cell_type": "code",
   "execution_count": 21,
   "id": "00bddf1d-cbae-4c82-a6e8-223ea8427548",
   "metadata": {},
   "outputs": [],
   "source": [
    "import numpy as np #Efficiently handle vector/matrix operations \n",
    "import matplotlib.pyplot as plt  #for creating static, interactive, and animated visualizations\n",
    "#Define the global learning (alpha)\n",
    "LEARNING_RATE = 0.01"
   ]
  },
  {
   "cell_type": "markdown",
   "id": "e8f8d4df-599b-456b-a682-d3097f619a11",
   "metadata": {
    "jp-MarkdownHeadingCollapsed": true
   },
   "source": [
    "**Defining Activation Functions**\n",
    "\n",
    "Backpropagation requires the derivative of the activation functions used in the network. The ReLU derivative is central to analyzing the \"Dying ReLU\" phenomenon."
   ]
  },
  {
   "cell_type": "code",
   "execution_count": 23,
   "id": "e499e1c8-4f5a-408c-90e5-fd41dcf4b468",
   "metadata": {},
   "outputs": [],
   "source": [
    "#Actication Functions and Derivatives\n",
    "\n",
    "def relu(z):\n",
    "    \"\"\"\n",
    "    ReLU activation function: A = max(0, z)\n",
    "    \n",
    "    Args:\n",
    "        z (np.array): The weighted input (Z) for the layer.\n",
    "        \n",
    "    Returns:\n",
    "        np.array: The activated output A.\n",
    "    \"\"\"\n",
    "    # Core ReLU calculation: returns Z for Z > 0, and 0 for Z <= 0.\n",
    "    return np.maximum(0, z)\n",
    "\n",
    "def relu_derivative(z):\n",
    "    \"\"\"\n",
    "    Derivative of ReLU: g'(Z) = 1 if z > 0, 0 otherwise.\n",
    "    \n",
    "    Args:\n",
    "        z (np.array): The weighted input (Z).\n",
    "        \n",
    "    Returns:\n",
    "        np.array: The derivative g'(Z).\n",
    "    \"\"\"\n",
    "    # This function is critical for the \"Dying ReLU\" analysis: \n",
    "    # If z <= 0, the derivative is 0, halting the gradient flow.\n",
    "    dz = np.where(z > 0, 1, 0)\n",
    "    return dz\n",
    "\n",
    "def sigmoid(Z):\n",
    "    \"\"\"\n",
    "    Sigmoid activation function: g(Z) = 1 / (1 + exp(-Z))\n",
    "    Used in the final layer for output probability.\n",
    "    \"\"\"\n",
    "    return 1 / (1 + np.exp(-Z))\n",
    "\n",
    "# NOTE: For backpropagation, we often use the derivative in terms of the activation A\n",
    "def sigmoid_derivative(A):\n",
    "    \"\"\"\n",
    "    Derivative of Sigmoid in terms of its output A: g'(Z) = A * (1 - A).\n",
    "    \"\"\"\n",
    "    return A * (1 - A)"
   ]
  },
  {
   "cell_type": "markdown",
   "id": "4d50a857-b6db-4897-a18c-be5e47018426",
   "metadata": {},
   "source": [
    "**Data Setup and Forward Propagation**\n",
    "\n",
    "We initialize weights and biases specifically to ensure the first hidden unit receives a negative input Z \n",
    "1\n",
    "[0]\n",
    "​\n",
    " =−0.7, forcing it into the \"dead\" state."
   ]
  },
  {
   "cell_type": "code",
   "execution_count": 33,
   "id": "93c29b56-4566-4f62-95e0-21ceee738cda",
   "metadata": {},
   "outputs": [
    {
     "name": "stdout",
     "output_type": "stream",
     "text": [
      "Initial Weights W1 (Hidden Layer, Shape (3, 2)):\n",
      "[[-0.7  0.5]\n",
      " [ 0.   0. ]\n",
      " [ 0.   0. ]]\n",
      "\n",
      "Initial Weights W2 (Output Layer, Shape (2, 1)):\n",
      "[[0.1]\n",
      " [0.9]]\n"
     ]
    }
   ],
   "source": [
    "# CORRECTED CODE CELL 3: Data Setup and Parameter Initialization\n",
    "\n",
    "#  1. Data Setup \n",
    "X = np.array([[1.0, 0.0, 1.0]]) # Input data (1 sample, 3 features)\n",
    "Y = np.array([[1]])             # Target output\n",
    "m = X.shape[0]                  # Number of training examples (m=1 here)\n",
    "\n",
    "#  2. Parameter Initialization (Hard-coded for Dying ReLU case) \n",
    "\n",
    "# Layer 1 (Hidden Layer: 3 inputs -> 2 units)\n",
    "# W1 MUST be of shape (3, 2) to handle the 3 input features.\n",
    "# We must adjust W1 to still ensure Z1[0] = -0.7 (DEAD) and Z1[1] = 0.5 (LIVE)\n",
    "W1 = np.array([[-0.7, 0.5],    # Weights from X[0]\n",
    "               [ 0.0, 0.0],    # Weights from X[1]\n",
    "               [ 0.0, 0.0]])   # Weights from X[2]\n",
    "# Verification of Z1 calculation:\n",
    "# Z1[0] = (1.0 * -0.7) + (0.0 * 0.0) + (1.0 * 0.0) = -0.7 (DEAD)\n",
    "# Z1[1] = (1.0 * 0.5) + (0.0 * 0.0) + (1.0 * 0.0) = 0.5 (LIVE)\n",
    "\n",
    "b1 = np.zeros((1, 2))           # b1: (1, 2)\n",
    "\n",
    "# Layer 2 (Output Layer: 2 inputs -> 1 unit)\n",
    "# W2 shape remains (2, 1) as the hidden layer size is still 2.\n",
    "W2 = np.array([[0.1], \n",
    "               [0.9]])          # W2: (2, 1)\n",
    "b2 = np.zeros((1, 1))           # b2: (1, 1)\n",
    "\n",
    "print(f\"Initial Weights W1 (Hidden Layer, Shape {W1.shape}):\\n{W1}\\n\")\n",
    "print(f\"Initial Weights W2 (Output Layer, Shape {W2.shape}):\\n{W2}\")"
   ]
  },
  {
   "cell_type": "markdown",
   "id": "02ff0601-d10a-42e9-962b-19369077381b",
   "metadata": {},
   "source": [
    "**Forward Propagation**"
   ]
  },
  {
   "cell_type": "code",
   "execution_count": 34,
   "id": "413d9846-00c2-4daf-a042-3469c6a19b33",
   "metadata": {},
   "outputs": [
    {
     "name": "stdout",
     "output_type": "stream",
     "text": [
      "FORWARD PASS RESULTS\n",
      "Hidden Layer Weighted Input Z1:\n",
      "[[-0.7  0.5]]\n",
      "Hidden Layer Activation A1:\n",
      "[[0.  0.5]]\n",
      "Predicted Output A2 (Y_hat): [[0.61063923]]\n"
     ]
    }
   ],
   "source": [
    "def forward_pass(X, W1, b1, W2, b2):\n",
    "    \"\"\"\n",
    "    Performs the full forward pass: L0 -> L1 (ReLU) -> L2 (Sigmoid).\n",
    "    \"\"\"\n",
    "    \n",
    "    # 1. Hidden Layer (L1)\n",
    "    Z1 = np.dot(X, W1) + b1 # Z1 = X * W1 + b1\n",
    "    A1 = relu(Z1)           # A1 = ReLU(Z1)\n",
    "    \n",
    "    # 2. Output Layer (L2)\n",
    "    Z2 = np.dot(A1, W2) + b2 # Z2 = A1 * W2 + b2\n",
    "    A2 = sigmoid(Z2)         # A2 = Sigmoid(Z2) (Y_hat)\n",
    "    \n",
    "    # Cache stores intermediate results\n",
    "    cache = (Z1, A1, Z2, A2)\n",
    "    return A2, cache\n",
    "\n",
    "# Execute the forward pass\n",
    "Y_hat, cache = forward_pass(X, W1, b1, W2, b2)\n",
    "Z1, A1, Z2, A2 = cache\n",
    "\n",
    "print(f\"FORWARD PASS RESULTS\")\n",
    "print(f\"Hidden Layer Weighted Input Z1:\\n{Z1}\")\n",
    "print(f\"Hidden Layer Activation A1:\\n{A1}\")\n",
    "print(f\"Predicted Output A2 (Y_hat): {Y_hat}\")"
   ]
  },
  {
   "cell_type": "markdown",
   "id": "82a95394-b30c-4038-9175-a9644506f9a3",
   "metadata": {},
   "source": [
    "**Backpropagation and Dying ReLU Analysis**"
   ]
  },
  {
   "cell_type": "code",
   "execution_count": 35,
   "id": "11614dd9-1777-492d-9957-1641df95e886",
   "metadata": {},
   "outputs": [
    {
     "name": "stdout",
     "output_type": "stream",
     "text": [
      "--- BACKWARD PASS GRADIENTS ---\n",
      "Gradient dW1 (Weights for Hidden Layer):\n",
      "[[ 0.         -0.35042469]\n",
      " [ 0.          0.        ]\n",
      " [ 0.         -0.35042469]]\n"
     ]
    }
   ],
   "source": [
    "# Backpropagation\n",
    "\n",
    "def backpropagation(X, Y, Y_hat, W2, cache):\n",
    "    \"\"\"\n",
    "    Computes the gradients (dW, db) needed for weight updates using \n",
    "    the chain rule.\n",
    "    \"\"\"\n",
    "    Z1, A1, Z2, A2 = cache\n",
    "    m = X.shape[0]\n",
    "\n",
    "    # --- Output Layer (L2) Gradients ---\n",
    "    # dZ2 is the gradient of the loss w.r.t Z2 (simplified for Sigmoid/Cross-Entropy)\n",
    "    dZ2 = Y_hat - Y \n",
    "    \n",
    "    # dW2: gradient of Loss w.r.t W2\n",
    "    dW2 = (1/m) * np.dot(A1.T, dZ2)\n",
    "    # db2: gradient of Loss w.r.t b2\n",
    "    db2 = (1/m) * np.sum(dZ2, axis=0, keepdims=True)\n",
    "\n",
    "    # --- Hidden Layer (L1) Gradients ---\n",
    "    # 1. Backpropagate through W2 to get dA1\n",
    "    dA1 = np.dot(dZ2, W2.T) \n",
    "    # 2. Apply the ReLU derivative to get dZ1 (CRITICAL STEP)\n",
    "    # dZ1 = dA1 * g'(Z1)\n",
    "    dZ1 = dA1 * relu_derivative(Z1) \n",
    "\n",
    "    # 3. Gradients for W1 and b1\n",
    "    # dW1: gradient of Loss w.r.t W1\n",
    "    dW1 = (1/m) * np.dot(X.T, dZ1)\n",
    "    # db1: gradient of Loss w.r.t b1\n",
    "    db1 = (1/m) * np.sum(dZ1, axis=0, keepdims=True)\n",
    "    \n",
    "    gradients = {\"dW1\": dW1, \"db1\": db1, \"dW2\": dW2, \"db2\": db2}\n",
    "    return gradients\n",
    "\n",
    "# Execute the backpropagation\n",
    "gradients = backpropagation(X, Y, Y_hat, W2, cache)\n",
    "\n",
    "print(f\"--- BACKWARD PASS GRADIENTS ---\")\n",
    "print(f\"Gradient dW1 (Weights for Hidden Layer):\\n{gradients['dW1']}\")"
   ]
  },
  {
   "cell_type": "markdown",
   "id": "ad328292-4848-44f6-a92b-e9875b3e4614",
   "metadata": {},
   "source": [
    "**Weight Update and Conclusion**"
   ]
  },
  {
   "cell_type": "code",
   "execution_count": 37,
   "id": "3b94e9bb-b223-42f7-9679-694803e46563",
   "metadata": {},
   "outputs": [
    {
     "name": "stdout",
     "output_type": "stream",
     "text": [
      "Original W1 (Before Update):\n",
      "[[-0.7         0.50350425]\n",
      " [ 0.          0.        ]\n",
      " [ 0.          0.00350425]]\n",
      "-----------------------------------\n",
      "Updated W1 (After Update):\n",
      "[[-0.7         0.50700849]\n",
      " [ 0.          0.        ]\n",
      " [ 0.          0.00700849]]\n"
     ]
    }
   ],
   "source": [
    "#  Weight Update\n",
    "# Unpack gradients\n",
    "dW1, db1 = gradients['dW1'], gradients['db1']\n",
    "dW2, db2 = gradients['dW2'], gradients['db2']\n",
    "\n",
    "# Store original weights for comparison\n",
    "W1_old = np.copy(W1)\n",
    "\n",
    "# Apply Gradient Descent: W = W - (learning_rate * dW)\n",
    "W1 -= LEARNING_RATE * dW1\n",
    "b1 -= LEARNING_RATE * db1\n",
    "W2 -= LEARNING_RATE * dW2\n",
    "b2 -= LEARNING_RATE * db2\n",
    "\n",
    "print(f\"Original W1 (Before Update):\\n{W1_old}\")\n",
    "print(\"-\" * 35)\n",
    "print(f\"Updated W1 (After Update):\\n{W1}\")"
   ]
  },
  {
   "cell_type": "markdown",
   "id": "f4c7495c-8864-420b-9f7a-4d2ae7ee04ba",
   "metadata": {},
   "source": [
    "**Analysis of the Dying ReLU Observation**\n",
    "\n",
    "The single step of backpropagation confirms the \"Dying ReLU\" problem:\n",
    "\n",
    "1.  **Dead Unit Confirmation:** The weighted input for the first hidden unit, $Z_1^{[0]}$, was **$-0.7$** (negative), which caused its activation $A_1^{[0]}$ to become **0** due to the ReLU function.\n",
    "2.  **Gradient Vanishing:** Since $Z_1^{[0]} \\le 0$, the derivative of ReLU $g'(Z_1^{[0]})$ is **0**. This results in the gradient for all weights feeding into this unit (the **first column of $dW_1$**) being **zero**.\n",
    "3.  **Weight Stagnation:**\n",
    "    * The updated weights **$W_1$ (first column)** are **identical** to the original weights $W_{1, old}$.\n",
    "    * The weights feeding the live unit (second column) *do* change.\n",
    "    \n",
    "**Conclusion:** The first hidden unit is \"dead.\" Since it receives no gradient, its weights will never be updated in this or subsequent steps, rendering it permanently inactive for this training data."
   ]
  },
  {
   "cell_type": "markdown",
   "id": "54a0a23c-dfe4-446d-b7c5-d4727aa2f0b0",
   "metadata": {},
   "source": [
    "**Visualizations**"
   ]
  },
  {
   "cell_type": "code",
   "execution_count": 38,
   "id": "8fc6ae72-2d05-43fd-8978-98844c659583",
   "metadata": {},
   "outputs": [
    {
     "data": {
      "image/png": "[encoded data removed]",
      "text/plain": [
       "<Figure size 800x400 with 1 Axes>"
      ]
     },
     "metadata": {},
     "output_type": "display_data"
    }
   ],
   "source": [
    "# Generate 100 points between -5 and 5\n",
    "z_values = np.linspace(-5, 5, 100)\n",
    "# Calculate the derivative at each point\n",
    "dz_values = relu_derivative(z_values)\n",
    "\n",
    "plt.figure(figsize=(8, 4))\n",
    "plt.plot(z_values, dz_values, label=\"ReLU Derivative $g'(Z)$\", color='red')\n",
    "plt.title('The Critical Role of the ReLU Derivative in Gradient Flow')\n",
    "plt.xlabel('Weighted Input (Z)')\n",
    "plt.ylabel('Derivative Value $g\\'(Z)$')\n",
    "plt.grid(True, linestyle='--', alpha=0.6)\n",
    "plt.axvline(0, color='black', linestyle='--', linewidth=0.8, label='$Z = 0$')\n",
    "plt.axhline(0, color='blue', linestyle='-', linewidth=0.8, label='$g\\'(Z) = 0$')\n",
    "plt.legend()\n",
    "plt.show()"
   ]
  },
  {
   "cell_type": "markdown",
   "id": "6065623b-963a-44e9-a757-f8f69a1f24f5",
   "metadata": {},
   "source": [
    "**Interpretation: ReLU Derivative Plot**\n",
    "\n",
    "\n",
    "This plot visually confirms the mathematical foundation of the \"Dying ReLU\" problem:\n",
    "\n",
    "1.  **Positive Input ($Z > 0$):** The derivative $g'(Z)$ is **1**. When the weighted input is positive, the gradient signal flows freely backward without being diminished, allowing the neuron to learn (e.g., the second hidden unit in this lab).\n",
    "2.  **Negative Input ($Z \\le 0$):** The derivative $g'(Z)$ is **0**. When the weighted input falls into this region (as $Z_1^{[0]} = -0.7$ did), the multiplication by zero in the backpropagation step $\\text{d}Z_1 = \\text{d}A_1 \\cdot g'(Z_1)$ causes the entire incoming gradient to **vanish**. This provides the definitive visual proof for why the \"dead\" unit cannot learn."
   ]
  },
  {
   "cell_type": "markdown",
   "id": "e9eb1477-2649-483f-92ce-52a2e8e7a33f",
   "metadata": {},
   "source": [
    "**KEY TAKEAWAYS**"
   ]
  },
  {
   "cell_type": "markdown",
   "id": "ad9c812b-42ee-4a87-8911-846c72cf0061",
   "metadata": {},
   "source": [
    "1. The Critical Role of the ReLU Derivative\n",
    "\n",
    "Zero Gradient: Because the derivative of ReLU(Z) is 0 for all Z≤0, any neuron whose weighted input Z becomes negative will have its incoming gradient signal multiplied by zero during backpropagation.\n",
    "\n",
    "Permanent Stagnation: This multiplication by zero causes the gradient for all its incoming weights (dW) to also become zero. Consequently, the weights are never updated, and the neuron is effectively permanently deactivated or \"dead.\"\n",
    "\n",
    "2. The Mechanics of Backpropagation\n",
    "This lab demonstrated how the chain rule propagates error:\n",
    "\n",
    "Forward vs. Backward: The forward pass uses inputs and weights to calculate the prediction (Y \n",
    "hat\n",
    "​\n",
    " ); the backward pass uses the difference between Y \n",
    "hat\n",
    "​\n",
    "  and the true label (Y) to calculate how much each weight contributed to the error.\n",
    "\n",
    "Weight Update Formula: The gradient calculation for any layer's weights, W \n",
    "L\n",
    "​\n",
    " , depends on three things: the activation from the previous layer (A \n",
    "L−1\n",
    "​\n",
    " ), the error signal (dZ \n",
    "L\n",
    "​\n",
    " ), and the learning rate.\n",
    "\n",
    "3. Proof of the Dying ReLU Phenomenon\n",
    "The specific setup of your lab provided empirical evidence for this problem:\n",
    "\n",
    "Empirical Proof: By setting W \n",
    "1\n",
    "​\n",
    "  and X to force Z \n",
    "1\n",
    "[0]\n",
    "​\n",
    " =−0.7, the code demonstrated that the first column of the dW \n",
    "1\n",
    "​\n",
    "  matrix was zero.\n",
    "\n",
    "Conclusion: This directly resulted in the first column of W \n",
    "1\n",
    "​\n",
    "  remaining unchanged after the update step, proving that the neuron connected to that column was isolated from the learning process.\n",
    "\n"
   ]
  },
  {
   "cell_type": "code",
   "execution_count": null,
   "id": "018109b9-5dbf-45ee-9887-01c411ae2478",
   "metadata": {},
   "outputs": [],
   "source": []
  }
 ],
 "metadata": {
  "kernelspec": {
   "display_name": "Python (sairria)",
   "language": "python",
   "name": "sairria"
  },
  "language_info": {
   "codemirror_mode": {
    "name": "ipython",
    "version": 3
   },
   "file_extension": ".py",
   "mimetype": "text/x-python",
   "name": "python",
   "nbconvert_exporter": "python",
   "pygments_lexer": "ipython3",
   "version": "3.13.0"
  }
 },
 "nbformat": 4,
 "nbformat_minor": 5
}
